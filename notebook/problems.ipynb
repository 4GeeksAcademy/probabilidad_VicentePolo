{
 "cells": [
  {
   "cell_type": "markdown",
   "id": "a41f3622",
   "metadata": {},
   "source": [
    "# Probability exercises"
   ]
  },
  {
   "cell_type": "markdown",
   "id": "a6bdbd89",
   "metadata": {},
   "source": [
    "## Exercise 1 \n",
    "\n",
    "Two dices are thrown once and the total score is observed. Use a simulation to find the estimated probability that the total score is even or greater than 7.  A simulation is a repetition of the same experiment multiple times to observe its behavior:\n",
    "\n",
    "- Run the experiment 1000 times (roll 2 dice 1000 times, and sum the number of both dices).\n",
    "- Keep track of the number of times that the sum was either greater than 7 or an even number.\n",
    "- Divide the number from step 2 by the number of iterations (1000)."
   ]
  },
  {
   "cell_type": "code",
   "execution_count": null,
   "id": "8939d892",
   "metadata": {},
   "outputs": [
    {
     "name": "stdout",
     "output_type": "stream",
     "text": [
      "La probabilidad de que salgan pares es de  0.52 %\n",
      "La probabilidad de que salgan mayores que 7 es de  0.43 %\n",
      "La probabilidad de que salgan mayores que 7 y que sean pares es de  0.27 %\n"
     ]
    }
   ],
   "source": [
    "# TODO\n",
    "\n",
    "import random\n",
    "#Calcular la posibilidad de que tirando dos dados el resultado sea par o mas que 7. Poner contadores a 0:\n",
    "\n",
    "pares=0\n",
    "masq7=0\n",
    "ambas=0\n",
    "\n",
    "#Hacer 1000 tiradas \n",
    "\n",
    "for _ in range(1000):\n",
    "\n",
    "    #Separar cada dado. Uno pude cometer el error de crear un randint de 2-12 pero no es correcto\n",
    "    dado1 = random.randint(1, 6)  # Tirada del primer dado\n",
    "    dado2 = random.randint(1, 6)  # Tirada del segundo dado\n",
    "    num = dado1 + dado2           # Suma de ambos dados\n",
    "    \n",
    "    #Si se cumplen las dos condiciones\n",
    "    if num>7 and num%2 == 0:\n",
    "        pares +=1\n",
    "        masq7 +=1\n",
    "        ambas +=1\n",
    "    #Si es mayor a 7\n",
    "    elif num>7:\n",
    "        masq7 +=1\n",
    "    #Si es par\n",
    "    elif num%2 == 0:\n",
    "        pares +=1\n",
    "\n",
    "    \n",
    "#Los contadores deberían estar a 0 arriba. \n",
    "\n",
    "#Dividir los resultados entre 1000 para hallar la probabilidad\n",
    "est_pares= pares/1000\n",
    "est_masq7=masq7/1000\n",
    "est_ambas=ambas/1000\n",
    "\n",
    "print(\"La probabilidad de que salgan pares es de \", round(est_pares, 2),\"%\")\n",
    "print(\"La probabilidad de que salgan mayores que 7 es de \", round(est_masq7, 2),\"%\")\n",
    "print(\"La probabilidad de que salgan mayores que 7 y que sean pares es de \", round(est_ambas, 2),\"%\")\n"
   ]
  },
  {
   "cell_type": "markdown",
   "id": "55732bca",
   "metadata": {},
   "source": [
    "## Exercise 2\n",
    "\n",
    "A box contains 10 white balls, 20 red balls and 30 green balls. If we take 5 balls from the box with replacement (we take the ball, observe what color it is and put it back into the box). We want to know the probability of:\n",
    "\n",
    "1. Take 3 white and 2 red.\n",
    "2. Take all of the same color.\n",
    "\n",
    "Run the experiment 1000 times and calculate the above probabilities."
   ]
  },
  {
   "cell_type": "code",
   "execution_count": null,
   "id": "23244d20",
   "metadata": {},
   "outputs": [
    {
     "name": "stdout",
     "output_type": "stream",
     "text": [
      "{0: 'White', 1: 'White', 2: 'White', 3: 'White', 4: 'White', 5: 'White', 6: 'White', 7: 'White', 8: 'White', 9: 'White', 10: 'Red', 11: 'Red', 12: 'Red', 13: 'Red', 14: 'Red', 15: 'Red', 16: 'Red', 17: 'Red', 18: 'Red', 19: 'Red', 20: 'Red', 21: 'Red', 22: 'Red', 23: 'Red', 24: 'Red', 25: 'Red', 26: 'Red', 27: 'Red', 28: 'Red', 29: 'Red', 30: 'Green', 31: 'Green', 32: 'Green', 33: 'Green', 34: 'Green', 35: 'Green', 36: 'Green', 37: 'Green', 38: 'Green', 39: 'Green', 40: 'Green', 41: 'Green', 42: 'Green', 43: 'Green', 44: 'Green', 45: 'Green', 46: 'Green', 47: 'Green', 48: 'Green', 49: 'Green', 50: 'Green', 51: 'Green', 52: 'Green', 53: 'Green', 54: 'Green', 55: 'Green', 56: 'Green', 57: 'Green', 58: 'Green', 59: 'Green'}\n",
      "La probabilidad que salgan del mismo color es de:  3.6 %\n",
      "La probabilidad que salgan 3 blancas y dos rojas es de:  30.4 %\n"
     ]
    }
   ],
   "source": [
    "ball_box = {}\n",
    "\n",
    "# Create the box of balls\n",
    "for i in range(60):\n",
    "    if i < 10:\n",
    "        ball_box[i] = \"White\"\n",
    "    elif (i > 9) and (i < 30):\n",
    "        ball_box[i] = \"Red\"\n",
    "    else:\n",
    "        ball_box[i] = \"Green\"\n",
    "\n",
    "print(ball_box)\n",
    "            \n",
    "# TODO\n",
    "mismocolor=0\n",
    "doscolores=0\n",
    "color1=\"White\"\n",
    "color2=\"Red\"\n",
    "\n",
    "#Por cada 1000 tiradas\n",
    "for j in range(1000):\n",
    "    #De 60 bolas de manera random (ya que es con reposición) sacamos 5\n",
    "    bolas=[ball_box[random.randint(0,59)] for _ in range(5)]\n",
    "    #Si solo se ha guardado en bolas 1 color: \n",
    "    if len(set(bolas))==1:\n",
    "        #Sumamos al contador de mismocolor 1\n",
    "        mismocolor +=1\n",
    "\n",
    "   #Quizá me he complicado un poco, despues de ver la solución. Al menos en el tema de las 3 blancas y dos rojas. \n",
    "   # He estado comparando y el segundo código (el propuesto en la solución) es mucho mas eficiente.  \n",
    "   \n",
    "    contando_colores={color: bolas.count(color) for color in set(bolas)} \n",
    "   \n",
    "    if len(contando_colores) == 2:  # Asegurarse de que haya exactamente 2 colores\n",
    "        cantidad_colores = list(contando_colores.values())  # Extraer las cantidades de bolas\n",
    "        if cantidad_colores.count(3) == 1 and cantidad_colores.count(2) == 1:  # Comprobar que hay 3 blancas y 2 rojas\n",
    "            doscolores += 1 #Sumamos 1 al contador\n",
    "\n",
    "prob_mismocolor=mismocolor/1000\n",
    "prob_doscolores=doscolores/1000\n",
    "\n",
    "porc_mismocolor=prob_mismocolor*100\n",
    "porc_doscolores=prob_doscolores*100\n",
    "\n",
    "print(\"La probabilidad que salgan del mismo color es de: \", round(porc_mismocolor, 2),\"%\")\n",
    "print(\"La probabilidad que salgan 3 blancas y dos rojas es de: \", porc_doscolores, \"%\")"
   ]
  }
 ],
 "metadata": {
  "kernelspec": {
   "display_name": "Python 3",
   "language": "python",
   "name": "python3"
  },
  "language_info": {
   "codemirror_mode": {
    "name": "ipython",
    "version": 3
   },
   "file_extension": ".py",
   "mimetype": "text/x-python",
   "name": "python",
   "nbconvert_exporter": "python",
   "pygments_lexer": "ipython3",
   "version": "3.11.4"
  }
 },
 "nbformat": 4,
 "nbformat_minor": 5
}
